{
 "cells": [
  {
   "cell_type": "code",
   "execution_count": 1,
   "id": "b2e6676e",
   "metadata": {},
   "outputs": [],
   "source": [
    "import random\n",
    "\n",
    "import gym"
   ]
  },
  {
   "cell_type": "code",
   "execution_count": 2,
   "id": "d9e851bd",
   "metadata": {},
   "outputs": [],
   "source": [
    "environment = gym.make('CartPole-v0')"
   ]
  },
  {
   "cell_type": "code",
   "execution_count": 5,
   "id": "4fdd61f7",
   "metadata": {},
   "outputs": [
    {
     "name": "stdout",
     "output_type": "stream",
     "text": [
      "Epoch 1 finshed with a total score of 13.0...\n",
      "Epoch 2 finshed with a total score of 26.0...\n",
      "Epoch 3 finshed with a total score of 18.0...\n",
      "Epoch 4 finshed with a total score of 21.0...\n",
      "Epoch 5 finshed with a total score of 29.0...\n"
     ]
    }
   ],
   "source": [
    "# Test using random action\n",
    "for epoch in range(1, 5+1):\n",
    "    done = False\n",
    "    score = 0\n",
    "    state = environment.reset()\n",
    "\n",
    "    while not done:\n",
    "        environment.render()\n",
    "        _, reward, done, _ = environment.step(random.choice([0,1]))\n",
    "        score += reward\n",
    "\n",
    "    print(f'Epoch {epoch} finshed with a total score of {score}...')"
   ]
  },
  {
   "cell_type": "code",
   "execution_count": 8,
   "id": "d389aea8",
   "metadata": {},
   "outputs": [
    {
     "name": "stdout",
     "output_type": "stream",
     "text": [
      "State size 4\n"
     ]
    }
   ],
   "source": [
    "# size of the state returned from the environment\n",
    "# this directly determines the shape of the input layer of our neural network\n",
    "state_size = environment.observation_space.shape[0]\n",
    "print('State size', state_size)"
   ]
  },
  {
   "cell_type": "code",
   "execution_count": 10,
   "id": "e5eb7e41",
   "metadata": {},
   "outputs": [
    {
     "name": "stdout",
     "output_type": "stream",
     "text": [
      "Total Number of Actions 2\n"
     ]
    }
   ],
   "source": [
    "# number of actions that can be taken (determines count of output nodes)\n",
    "num_actions = environment.action_space.n\n",
    "print('Total Number of Actions', num_actions)"
   ]
  },
  {
   "cell_type": "code",
   "execution_count": 78,
   "id": "1b07d2fa",
   "metadata": {
    "scrolled": true
   },
   "outputs": [],
   "source": [
    "from tensorflow.keras.layers import Dense, Flatten\n",
    "from tensorflow.keras.models import Sequential\n",
    "\n",
    "def build_model(input_shape, num_outputs):\n",
    "    model = Sequential()\n",
    "\n",
    "    model.add(Flatten(input_shape=input_shape))\n",
    "    model.add(Dense(6, activation='relu'))\n",
    "#     model.add(Dense(16, activation='relu'))\n",
    "    model.add(Dense(num_outputs, activation='linear'))\n",
    "\n",
    "    return model"
   ]
  },
  {
   "cell_type": "code",
   "execution_count": 79,
   "id": "b1589e2e",
   "metadata": {},
   "outputs": [
    {
     "name": "stdout",
     "output_type": "stream",
     "text": [
      "Model: \"sequential_9\"\n",
      "_________________________________________________________________\n",
      "Layer (type)                 Output Shape              Param #   \n",
      "=================================================================\n",
      "flatten_9 (Flatten)          (None, 4)                 0         \n",
      "_________________________________________________________________\n",
      "dense_23 (Dense)             (None, 6)                 30        \n",
      "_________________________________________________________________\n",
      "dense_24 (Dense)             (None, 2)                 14        \n",
      "=================================================================\n",
      "Total params: 44\n",
      "Trainable params: 44\n",
      "Non-trainable params: 0\n",
      "_________________________________________________________________\n"
     ]
    }
   ],
   "source": [
    "model = build_model((1, state_size), num_actions)\n",
    "model.summary()"
   ]
  },
  {
   "cell_type": "code",
   "execution_count": 59,
   "id": "0f757f70",
   "metadata": {},
   "outputs": [],
   "source": [
    "from tensorflow.keras.optimizers import Adam\n",
    "from rl.agents import DQNAgent\n",
    "from rl.policy import BoltzmannQPolicy\n",
    "from rl.memory import SequentialMemory\n",
    "\n",
    "def build_agent(model, num_actions, num_warmup_steps=10):\n",
    "    return DQNAgent(\n",
    "        memory=SequentialMemory(limit=5000, window_length=1),\n",
    "        model=model,\n",
    "        nb_actions=num_actions,\n",
    "        nb_steps_warmup=num_warmup_steps,\n",
    "        policy=BoltzmannQPolicy(),\n",
    "        target_model_update=1e-2,\n",
    "    )"
   ]
  },
  {
   "cell_type": "code",
   "execution_count": 80,
   "id": "b46e0909",
   "metadata": {},
   "outputs": [],
   "source": [
    "dqn = build_agent(model, num_actions)\n",
    "dqn.compile(Adam(lr=1e-3), metrics=['mae'])"
   ]
  },
  {
   "cell_type": "code",
   "execution_count": 97,
   "id": "137d1b5e",
   "metadata": {},
   "outputs": [
    {
     "name": "stdout",
     "output_type": "stream",
     "text": [
      "Training for 10000 steps ...\n",
      "Interval 1 (0 steps performed)\n",
      "10000/10000 [==============================] - 59s 6ms/step - reward: 1.0000\n",
      "done, took 59.416 seconds\n"
     ]
    },
    {
     "data": {
      "text/plain": [
       "<tensorflow.python.keras.callbacks.History at 0x7f4ee6f3dd00>"
      ]
     },
     "execution_count": 97,
     "metadata": {},
     "output_type": "execute_result"
    }
   ],
   "source": [
    "# run training iterations\n",
    "dqn.fit(environment, nb_steps=10000, visualize=False, verbose=1)"
   ]
  },
  {
   "cell_type": "code",
   "execution_count": 98,
   "id": "4c6d0b21",
   "metadata": {},
   "outputs": [
    {
     "name": "stdout",
     "output_type": "stream",
     "text": [
      "Testing for 10 episodes ...\n",
      "Episode 1: reward: 200.000, steps: 200\n",
      "Episode 2: reward: 200.000, steps: 200\n",
      "Episode 3: reward: 200.000, steps: 200\n",
      "Episode 4: reward: 200.000, steps: 200\n",
      "Episode 5: reward: 200.000, steps: 200\n",
      "Episode 6: reward: 200.000, steps: 200\n",
      "Episode 7: reward: 200.000, steps: 200\n",
      "Episode 8: reward: 200.000, steps: 200\n",
      "Episode 9: reward: 200.000, steps: 200\n",
      "Episode 10: reward: 200.000, steps: 200\n"
     ]
    },
    {
     "data": {
      "text/plain": [
       "<tensorflow.python.keras.callbacks.History at 0x7f4ee6f3daf0>"
      ]
     },
     "execution_count": 98,
     "metadata": {},
     "output_type": "execute_result"
    }
   ],
   "source": [
    "# test trained agent\n",
    "dqn.test(environment, nb_episodes=10, visualize=True)"
   ]
  }
 ],
 "metadata": {
  "kernelspec": {
   "display_name": "Python 3 (ipykernel)",
   "language": "python",
   "name": "python3"
  },
  "language_info": {
   "codemirror_mode": {
    "name": "ipython",
    "version": 3
   },
   "file_extension": ".py",
   "mimetype": "text/x-python",
   "name": "python",
   "nbconvert_exporter": "python",
   "pygments_lexer": "ipython3",
   "version": "3.9.5"
  }
 },
 "nbformat": 4,
 "nbformat_minor": 5
}
